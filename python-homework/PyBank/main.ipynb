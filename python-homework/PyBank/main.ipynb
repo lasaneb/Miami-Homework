{
 "cells": [
  {
   "cell_type": "code",
   "execution_count": 2,
   "source": [
    "import pandas as pd\n",
    "from pathlib import Path\n",
    "import csv"
   ],
   "outputs": [],
   "metadata": {}
  },
  {
   "cell_type": "code",
   "execution_count": 3,
   "source": [
    "# file path set\n",
    "\n",
    "filepath = Path(\"/Users/xbook/Desktop/Bootcamp/FinTech/Miami-Homework/python-homework/PyBank/budget_data.csv\")"
   ],
   "outputs": [],
   "metadata": {}
  },
  {
   "cell_type": "code",
   "execution_count": 4,
   "source": [
    "# print(filepath)"
   ],
   "outputs": [],
   "metadata": {}
  },
  {
   "cell_type": "code",
   "execution_count": 269,
   "source": [
    "with open(filepath, \"r\") as csvfile:\n",
    "    csvreader = csv.reader(csvfile, delimiter=\",\")\n",
    "    csv_header = next(csvreader)\n",
    "# print(csv_header)\n",
    "    total = 0\n",
    "    profit = 0\n",
    "    for row in csvreader:\n",
    "        # profit = (row[1])\n",
    "        total += int(row[1])\n",
    "        # print(profit)\n",
    "        print (total)"
   ],
   "outputs": [
    {
     "output_type": "error",
     "ename": "IndentationError",
     "evalue": "unexpected indent (<ipython-input-269-2477468fcbc2>, line 12)",
     "traceback": [
      "\u001b[0;36m  File \u001b[0;32m\"<ipython-input-269-2477468fcbc2>\"\u001b[0;36m, line \u001b[0;32m12\u001b[0m\n\u001b[0;31m    print (total)\u001b[0m\n\u001b[0m    ^\u001b[0m\n\u001b[0;31mIndentationError\u001b[0m\u001b[0;31m:\u001b[0m unexpected indent\n"
     ]
    }
   ],
   "metadata": {}
  },
  {
   "cell_type": "code",
   "execution_count": null,
   "source": [],
   "outputs": [],
   "metadata": {}
  }
 ],
 "metadata": {
  "kernelspec": {
   "name": "python3",
   "display_name": "Python 3.8.2 64-bit ('fintech': conda)"
  },
  "language_info": {
   "codemirror_mode": {
    "name": "ipython",
    "version": 3
   },
   "file_extension": ".py",
   "mimetype": "text/x-python",
   "name": "python",
   "nbconvert_exporter": "python",
   "pygments_lexer": "ipython3",
   "version": "3.8.2"
  },
  "interpreter": {
   "hash": "667a9ff8fd1841bcae39b83d347cfb9c802f325a3518eadedf4125def765fd08"
  }
 },
 "nbformat": 4,
 "nbformat_minor": 5
}