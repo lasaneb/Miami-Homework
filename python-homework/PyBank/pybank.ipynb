{
 "cells": [
  {
   "cell_type": "code",
   "execution_count": 61,
   "source": [
    "#panda csv imports\n",
    "import pandas as pd\n",
    "from pathlib import Path\n",
    "import csv"
   ],
   "outputs": [],
   "metadata": {}
  },
  {
   "cell_type": "code",
   "execution_count": 62,
   "source": [
    "#creating file path\n",
    "filepath = Path(\"/Users/xbook/Desktop/Bootcamp/FinTech/Miami-Homework/python-homework/PyBank/budget_data.csv\")"
   ],
   "outputs": [],
   "metadata": {}
  },
  {
   "cell_type": "code",
   "execution_count": 63,
   "source": [
    "with open(filepath, \"r\") as csvfile:\n",
    "    csvreader = csv.reader(csvfile, delimiter=\",\")\n",
    "    csv_header = next(csvreader)\n",
    "    total = 0\n",
    "    data = []\n",
    "    for row in csvreader:\n",
    "        total += int(row[1])\n",
    "        data.append(row)\n",
    "   #counting list\n",
    "    count = len(data)\n",
    "   #creating average variable\n",
    "    average = total/count"
   ],
   "outputs": [],
   "metadata": {}
  },
  {
   "cell_type": "code",
   "execution_count": 64,
   "source": [
    "# creating min function \n",
    "minimum = min(data)"
   ],
   "outputs": [],
   "metadata": {}
  },
  {
   "cell_type": "code",
   "execution_count": 65,
   "source": [
    "\n",
    "# creating mix function \n",
    "maximum = max(data)"
   ],
   "outputs": [],
   "metadata": {}
  },
  {
   "cell_type": "code",
   "execution_count": 66,
   "source": [
    "\n",
    "# printing out all variables creates, used str to create stings\n",
    "print ('Financial Analysis')\n",
    "print ('Total Months:' + str(count))\n",
    "print ('Total:' + '$'+str(total))\n",
    "print ('Average Change:')\n",
    "print ('Greatest Increase in Profits:' + str(maximum))\n",
    "print('Greatest Decrease in Profits:' + str(minimum))"
   ],
   "outputs": [
    {
     "output_type": "stream",
     "name": "stdout",
     "text": [
      "Financial Analysis\n",
      "Total Months:86\n",
      "Total:$38382578\n",
      "Average Change:\n",
      "Greatest Increase in Profits:['Sep-2016', '768450']\n",
      "Greatest Decrease in Profits:['Apr-2010', '-69417']\n"
     ]
    }
   ],
   "metadata": {}
  },
  {
   "cell_type": "code",
   "execution_count": null,
   "source": [],
   "outputs": [],
   "metadata": {}
  }
 ],
 "metadata": {
  "orig_nbformat": 4,
  "language_info": {
   "name": "python",
   "version": "3.8.2",
   "mimetype": "text/x-python",
   "codemirror_mode": {
    "name": "ipython",
    "version": 3
   },
   "pygments_lexer": "ipython3",
   "nbconvert_exporter": "python",
   "file_extension": ".py"
  },
  "kernelspec": {
   "name": "python3",
   "display_name": "Python 3.8.2 64-bit ('FinTech': conda)"
  },
  "interpreter": {
   "hash": "16f52e174a309d7c517a3c0cabbad22d23a4b8d70f945bb840dfefc452449b7a"
  }
 },
 "nbformat": 4,
 "nbformat_minor": 2
}