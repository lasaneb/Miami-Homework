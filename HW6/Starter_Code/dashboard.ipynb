{
 "cells": [
  {
   "cell_type": "markdown",
   "metadata": {},
   "source": [
    "# San Francisco Rental Prices Dashboard\n",
    "\n",
    "In this notebook, you will compile the visualizations from the previous analysis into functions that can be used for a Panel dashboard."
   ]
  },
  {
   "cell_type": "code",
   "execution_count": 30,
   "metadata": {},
   "outputs": [],
   "source": [
    "# imports\n",
    "import panel as pn\n",
    "pn.extension('plotly')\n",
    "import plotly.express as px\n",
    "import pandas as pd\n",
    "import hvplot.pandas\n",
    "import matplotlib.pyplot as plt\n",
    "import os\n",
    "from pathlib import Path\n",
    "from dotenv import load_dotenv"
   ]
  },
  {
   "cell_type": "code",
   "execution_count": 31,
   "metadata": {},
   "outputs": [],
   "source": [
    "# Read the Mapbox API key\n",
    "load_dotenv()\n",
    "map_box_api = os.getenv(\"mapbox\")\n",
    "px.set_mapbox_access_token(map_box_api)"
   ]
  },
  {
   "cell_type": "markdown",
   "metadata": {},
   "source": [
    "# Import Data"
   ]
  },
  {
   "cell_type": "code",
   "execution_count": 51,
   "metadata": {},
   "outputs": [],
   "source": [
    "# Import the necessary CSVs to Pandas DataFrames\n",
    "file_path = Path(\"Data/sfo_neighborhoods_census_data.csv\")\n",
    "sfo_data = pd.read_csv(file_path, index_col=\"year\")\n",
    "#sfo_data.head()\n",
    "\n",
    "\n",
    "file_path = Path(\"Data/neighborhoods_coordinates.csv\")\n",
    "df_neighborhood_locations = pd.read_csv(file_path)\n",
    "#df_neighborhood_locations.head()"
   ]
  },
  {
   "cell_type": "markdown",
   "metadata": {},
   "source": [
    "- - -"
   ]
  },
  {
   "cell_type": "markdown",
   "metadata": {},
   "source": [
    "## Panel Visualizations\n",
    "\n",
    "In this section, you will copy the code for each plot type from your analysis notebook and place it into separate functions that Panel can use to create panes for the dashboard. \n",
    "\n",
    "These functions will convert the plot object to a Panel pane.\n",
    "\n",
    "Be sure to include any DataFrame transformation/manipulation code required along with the plotting code.\n",
    "\n",
    "Return a Panel pane object from each function that can be used to build the dashboard.\n",
    "\n",
    "Note: Remove any `.show()` lines from the code. We want to return the plots instead of showing them. The Panel dashboard will then display the plots."
   ]
  },
  {
   "cell_type": "code",
   "execution_count": 57,
   "metadata": {},
   "outputs": [],
   "source": [
    "# Define Panel Visualization Functions\n",
    "def housing_units_per_year():\n",
    "    \"\"\"Housing Units Per Year.\"\"\"\n",
    "    \n",
    "    df_units_pyr = sfo_data['housing_units'].groupby(sfo_data.index).mean()\n",
    "    \n",
    "    fig_units_pyr = plt.figure()\n",
    "    plot_units_pyr = df_units_pyr.plot.bar()\n",
    "    plot_units_pyr.set_xlabel(\"Year\", fontsize=12)\n",
    "    plot_units_pyr.set_ylabel(\"Housing Units\", fontsize=12)\n",
    "    plot_units_pyr.set_title( \"Housing Units in San Francisco\")\n",
    "\n",
    "    units_pyr_std = df_units_pyr.std()\n",
    "    units_pyr_min = min(df_units_pyr)\n",
    "    units_pyr_max = max(df_units_pyr)\n",
    "\n",
    "    #print(units_pyr_std)\n",
    "    plot_units_pyr.set_ylim(units_pyr_min - units_pyr_std, units_pyr_max + units_pyr_std)\n",
    "    plt.close(fig_units_pyr)\n",
    "\n",
    "\n",
    "def average_gross_rent():\n",
    "    \"\"\"Average Gross Rent in San Francisco Per Year.\"\"\"\n",
    "    \n",
    "    df_avg_cost = (sfo_data[[\"sale_price_sqr_foot\", \"gross_rent\"]].groupby(sfo_data.index).mean())\n",
    "    \n",
    "    fig = plt.figure()\n",
    "    bar_chart = df_avg_cost['sale_price_sqr_foot'].plot(color='gold')\n",
    "    bar_chart.set_xlabel('Year', fontsize=12)\n",
    "    bar_chart.set_ylabel('Avg Price Per SgFt By Year', fontsize=12)\n",
    "    bar_chart.set_title('Average Price per SqFt by Year', fontsize=14, fontweight=\"bold\")\n",
    "    plt.close(fig)\n",
    "\n",
    "\n",
    "\n",
    "    # Line chart for average montly rent\n",
    "    fig = plt.figure()\n",
    "    bar_chart = df_avg_cost['gross_rent'].plot(color='black')\n",
    "    bar_chart.set_xlabel('Year', fontsize=12)\n",
    "    bar_chart.set_ylabel('Avg Price Per SgFt By Year', fontsize=12)\n",
    "    bar_chart.set_title('Average Gross Rent by Year', fontsize=14, fontweight=\"bold\")\n",
    "    plt.close(fig)\n",
    "\n",
    "\n",
    "\n",
    "\n",
    "def average_sales_price():\n",
    "    \"\"\"Average Sales Price Per Year.\"\"\"\n",
    "    \n",
    "    df_costs = sfo_data.groupby([sfo_data.index, \"neighborhood\"]).mean()\n",
    "    df_costs.reset_index(inplace=True)\n",
    "    df_costs.rename(columns={\"level_0\":\"year\"},inplace=True)\n",
    "\n",
    "\n",
    "\n",
    "def average_price_by_neighborhood():\n",
    "    \"\"\"Average Prices by Neighborhood.\"\"\"\n",
    "    df_costs = sfo_data.groupby([sfo_data.index, \"neighborhood\"]).mean()\n",
    "    df_costs.reset_index(inplace=True)\n",
    "    df_costs.rename(columns={\"level_0\":\"year\"},inplace=True)\n",
    "    \n",
    "    df_costs.hvplot.line(\"year\", \"sale_price_sqr_foot\", \n",
    "                    xlabel=\"year\",\n",
    "                    ylabel=\"Avg. Sale Price per SqFt\",\n",
    "                   groupby=\"neighborhood\",)\n",
    "    \n",
    "    \n",
    "    df_costs.hvplot.line (\"year\", \"gross_rent\",\n",
    "        xlabel=\"Year\",\n",
    "        ylabel=\"Avg. Sales Price Per SqFt\",\n",
    "        groupby=\"neighborhood\",)\n",
    "\n",
    "\n",
    "\n",
    "def top_most_expensive_neighborhoods():\n",
    "    \"\"\"Top 10 Most Expensive Neighborhoods.\"\"\"\n",
    "\n",
    "    df_expensive_neighborhoods = sfo_data.groupby(by=\"neighborhood\").mean()\n",
    "    df_expensive_neighborhoods = df_expensive_neighborhoods.sort_values(\n",
    "        by=\"sale_price_sqr_foot\", ascending=False).head(10)\n",
    "    df_expensive_neighborhoods = df_expensive_neighborhoods.reset_index()\n",
    "\n",
    "    df_expensive_neighborhoods.hvplot.bar(\"neighborhood\", \"sale_price_sqr_foot\",\n",
    "                                    title=\"Top 10 Expesive Neighborhoods in San Fransico\",\n",
    "                                    xlabel=\"Neighborhood\",\n",
    "                                    ylabel =\"Avg. Sales Price per SqFt\",\n",
    "                                    height=400,\n",
    "                                    rot=90\n",
    "                                     )\n",
    "\n",
    "def most_expensive_neighborhoods_rent_sales():\n",
    "    \"\"\"Comparison of Rent and Sales Prices of Most Expensive Neighborhoods.\"\"\"   \n",
    "    df_expensive_neighborhoods = sfo_data.groupby(by=\"neighborhood\").mean()\n",
    "    df_expensive_neighborhoods = df_expensive_neighborhoods.sort_values(\n",
    "        by=\"sale_price_sqr_foot\", ascending=False).head(10)\n",
    "    df_expensive_neighborhoods = df_expensive_neighborhoods.reset_index()\n",
    "    \n",
    "    px.parallel_categories(\n",
    "    df_expensive_neighborhoods, color=\"sale_price_sqr_foot\", \n",
    "    color_continuous_scale=px.colors.sequential.Blackbody,\n",
    "    title=\"Parallel Catagories Analysis of Most Expensive Neighborhoods\")\n",
    "\n",
    "    \n",
    "    \n",
    "def parallel_coordinates():\n",
    "    \"\"\"Parallel Coordinates Plot.\"\"\"\n",
    "    df_expensive_neighborhoods = sfo_data.groupby(by=\"neighborhood\").mean()\n",
    "    df_expensive_neighborhoods = df_expensive_neighborhoods.sort_values(\n",
    "        by=\"sale_price_sqr_foot\", ascending=False).head(10)\n",
    "    df_expensive_neighborhoods = df_expensive_neighborhoods.reset_index()\n",
    "    \n",
    "    \n",
    "    px.parallel_coordinates(df_expensive_neighborhoods,\n",
    "                        color=\"sale_price_sqr_foot\",\n",
    "                        color_continuous_scale=px.colors.sequential.Blackbody,\n",
    "                        title=\"Parallel Coordinate Analysis of Most Expensive Neighboorhoods\")\n",
    "\n",
    "\n",
    "\n",
    "def parallel_categories():\n",
    "    \"\"\"Parallel Categories Plot.\"\"\"\n",
    "    \n",
    "    \n",
    "    df_expensive_neighborhoods = sfo_data.groupby(by=\"neighborhood\").mean()\n",
    "    df_expensive_neighborhoods = df_expensive_neighborhoods.sort_values(\n",
    "        by=\"sale_price_sqr_foot\", ascending=False).head(10)\n",
    "    df_expensive_neighborhoods = df_expensive_neighborhoods.reset_index()\n",
    "    \n",
    "    px.parallel_coordinates(df_expensive_neighborhoods,\n",
    "                        color=\"sale_price_sqr_foot\",\n",
    "                        color_continuous_scale=px.colors.sequential.Blackbody,\n",
    "                        title=\"Parallel Coordinate Analysis of Most Expensive Neighboorhoods\")\n",
    "\n",
    "\n",
    "\n",
    "def neighborhood_map():\n",
    "    \"\"\"Neighborhood Map.\"\"\"\n",
    "\n",
    "    neighborhood_map = px.scatter_mapbox(\n",
    "    df_all_neigborhoods,\n",
    "    lat=\"Lat\",\n",
    "    lon=\"Lon\",\n",
    "    size=\"sale_price_sqr_foot\",\n",
    "    color=\"gross_rent\",\n",
    "    color_continuous_scale=px.colors.cyclical.IceFire,\n",
    "    size_max=15,\n",
    "    zoom=11,\n",
    "    hover_name=\"Neighborhood\",\n",
    "    title=\"Average Sale Price per SqFt & Gross Rent in San Francisco\",)\n",
    "\n",
    "def sunburst():\n",
    "    \"\"\"Sunburst Plot.\"\"\"\n",
    "    df_expensive_neighborhoods = sfo_data.groupby(by=\"neighborhood\").mean()\n",
    "    df_expensive_neighborhoods = df_expensive_neighborhoods.sort_values(\n",
    "        by=\"sale_price_sqr_foot\", ascending=False).head(10)\n",
    "    df_expensive_neighborhoods = df_expensive_neighborhoods.reset_index()\n",
    "    df_expensive_neighborhoods\n",
    "    \n",
    "    fig = px.sunburst(\n",
    "    df_expensive_neighborhoods_per_year,\n",
    "    path=[\"year\", \"neighborhood\"],\n",
    "    values='sale_price_sqr_foot',\n",
    "    color='gross_rent',\n",
    "    color_continuous_scale='blackbody',\n",
    "    title=\"Cost Analysis of Most Expensive Neighborhood per Year\",\n",
    "    height=700)\n"
   ]
  },
  {
   "cell_type": "markdown",
   "metadata": {},
   "source": [
    "## Panel Dashboard\n",
    "\n",
    "In this section, you will combine all of the plots into a single dashboard view using Panel. Be creative with your dashboard design!"
   ]
  },
  {
   "cell_type": "code",
   "execution_count": 63,
   "metadata": {},
   "outputs": [
    {
     "ename": "SyntaxError",
     "evalue": "unexpected EOF while parsing (<ipython-input-63-78111ed6dc3a>, line 15)",
     "output_type": "error",
     "traceback": [
      "\u001b[0;36m  File \u001b[0;32m\"<ipython-input-63-78111ed6dc3a>\"\u001b[0;36m, line \u001b[0;32m15\u001b[0m\n\u001b[0;31m    dashboard = pn.Cloumn(pn.Row(title), tabs, width=800)\u001b[0m\n\u001b[0m                                                         ^\u001b[0m\n\u001b[0;31mSyntaxError\u001b[0m\u001b[0;31m:\u001b[0m unexpected EOF while parsing\n"
     ]
    }
   ],
   "source": [
    "# Create a Title for the Dashboard\n",
    "title = pn.pane.Markdown(\"\"\"# Real Estate Analysis of San Francisco from 2010 to 2016\"\"\", width=700,\n",
    ")\n",
    "\n",
    "\n",
    "# Create a tab layout for the dashboard\n",
    "tabs = pn.Tabs(\n",
    "    (\"Yearly Market Analysis\", pn.Row(housing_units_per_year(), average_gross_rent(), average_sales_price())),\n",
    "    (\"Neighborhood Analysis\", pn.Column(average_price_by_neighborhood(), top_most_expensive_neighborhoods(), most_expensive_neighborhoods_rent_sales())),\n",
    "    (\"Parallel Plots Analysis\", pn.Column(parallel_coordinates(),parallel_coordinates())),\n",
    "    #(\"Sunburst Plot Analysis\", pn.Column(sunburst())),)\n",
    "\n",
    "\n",
    "# Create the dashboard\n",
    "dashboard = pn.Cloumn(pn.Row(title), tabs, width=800)"
   ]
  },
  {
   "cell_type": "markdown",
   "metadata": {},
   "source": [
    "## Serve the Panel Dashboard"
   ]
  },
  {
   "cell_type": "code",
   "execution_count": 59,
   "metadata": {},
   "outputs": [
    {
     "ename": "NameError",
     "evalue": "name 'dashboard' is not defined",
     "output_type": "error",
     "traceback": [
      "\u001b[0;31m---------------------------------------------------------------------------\u001b[0m",
      "\u001b[0;31mNameError\u001b[0m                                 Traceback (most recent call last)",
      "\u001b[0;32m<ipython-input-59-c9dd7d7b22a7>\u001b[0m in \u001b[0;36m<module>\u001b[0;34m\u001b[0m\n\u001b[1;32m      1\u001b[0m \u001b[0;31m# Serve the# dashboard\u001b[0m\u001b[0;34m\u001b[0m\u001b[0;34m\u001b[0m\u001b[0;34m\u001b[0m\u001b[0m\n\u001b[0;32m----> 2\u001b[0;31m \u001b[0mdashboard\u001b[0m\u001b[0;34m.\u001b[0m\u001b[0mservable\u001b[0m\u001b[0;34m\u001b[0m\u001b[0;34m\u001b[0m\u001b[0m\n\u001b[0m",
      "\u001b[0;31mNameError\u001b[0m: name 'dashboard' is not defined"
     ]
    }
   ],
   "source": [
    "# Serve the# dashboard\n",
    "dashboard.servable"
   ]
  },
  {
   "cell_type": "markdown",
   "metadata": {},
   "source": [
    "# Debugging\n",
    "\n",
    "Note: Some of the Plotly express plots may not render in the notebook through the panel functions.\n",
    "\n",
    "However, you can test each plot by uncommenting the following code"
   ]
  },
  {
   "cell_type": "code",
   "execution_count": null,
   "metadata": {},
   "outputs": [],
   "source": [
    "# housing_units_per_year()"
   ]
  },
  {
   "cell_type": "code",
   "execution_count": null,
   "metadata": {},
   "outputs": [],
   "source": [
    "# average_gross_rent()"
   ]
  },
  {
   "cell_type": "code",
   "execution_count": null,
   "metadata": {},
   "outputs": [],
   "source": [
    "# average_sales_price()"
   ]
  },
  {
   "cell_type": "code",
   "execution_count": null,
   "metadata": {},
   "outputs": [],
   "source": [
    "# average_price_by_neighborhood()"
   ]
  },
  {
   "cell_type": "code",
   "execution_count": null,
   "metadata": {},
   "outputs": [],
   "source": [
    "# top_most_expensive_neighborhoods()"
   ]
  },
  {
   "cell_type": "code",
   "execution_count": null,
   "metadata": {},
   "outputs": [],
   "source": [
    "# most_expensive_neighborhoods_rent_sales()"
   ]
  },
  {
   "cell_type": "code",
   "execution_count": null,
   "metadata": {},
   "outputs": [],
   "source": [
    "# neighborhood_map().show()"
   ]
  },
  {
   "cell_type": "code",
   "execution_count": null,
   "metadata": {},
   "outputs": [],
   "source": [
    "# parallel_categories()"
   ]
  },
  {
   "cell_type": "code",
   "execution_count": null,
   "metadata": {},
   "outputs": [],
   "source": [
    "# parallel_coordinates()"
   ]
  },
  {
   "cell_type": "code",
   "execution_count": null,
   "metadata": {},
   "outputs": [],
   "source": [
    "# sunburst()"
   ]
  },
  {
   "cell_type": "code",
   "execution_count": null,
   "metadata": {},
   "outputs": [],
   "source": []
  }
 ],
 "metadata": {
  "file_extension": ".py",
  "kernelspec": {
   "display_name": "Python [conda env:pyvizenv] *",
   "language": "python",
   "name": "conda-env-pyvizenv-py"
  },
  "language_info": {
   "codemirror_mode": {
    "name": "ipython",
    "version": 3
   },
   "file_extension": ".py",
   "mimetype": "text/x-python",
   "name": "python",
   "nbconvert_exporter": "python",
   "pygments_lexer": "ipython3",
   "version": "3.7.10"
  },
  "mimetype": "text/x-python",
  "name": "python",
  "npconvert_exporter": "python",
  "pygments_lexer": "ipython3",
  "version": 3
 },
 "nbformat": 4,
 "nbformat_minor": 4
}
